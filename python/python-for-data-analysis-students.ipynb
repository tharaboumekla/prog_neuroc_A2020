{
 "cells": [
  {
   "cell_type": "markdown",
   "metadata": {
    "slideshow": {
     "slide_type": "slide"
    }
   },
   "source": [
    "# Introduction to Python for data analysis\n",
    "Presented by Simon Faghel-Soubeyrand for the PSY2038 course, A2020.\n",
    "\n",
    "From Tal Yarkoni's [\"Introduction to Python\" lecture at Neurohackademy 2019](https://neurohackademy.org/course/introduction-to-python-2/)."
   ]
  },
  {
   "cell_type": "markdown",
   "metadata": {
    "slideshow": {
     "slide_type": "subslide"
    }
   },
   "source": [
    "## Before we get started...\n",
    "\n",
    "Installation instructions : [brainhack_install_python](https://school.brainhackmtl.org/setup/)\n",
    "    \n",
    "We're going to be working in [Jupyter notebooks]() for most of this presentation! [link to python to matlab comp](https://realpython.com/matlab-vs-python/)\n",
    "\n",
    "To load yours, do the following:"
   ]
  },
  {
   "cell_type": "markdown",
   "metadata": {
    "slideshow": {
     "slide_type": "fragment"
    }
   },
   "source": [
    "1. Open a terminal,"
   ]
  },
  {
   "cell_type": "markdown",
   "metadata": {
    "slideshow": {
     "slide_type": "fragment"
    }
   },
   "source": [
    "2. Type `jupyter notebook`"
   ]
  },
  {
   "cell_type": "markdown",
   "metadata": {
    "slideshow": {
     "slide_type": "fragment"
    }
   },
   "source": [
    "3. If you're not automatically directed to a webpage copy the URL printed in the terminal and paste it in your browser"
   ]
  },
  {
   "cell_type": "markdown",
   "metadata": {
    "slideshow": {
     "slide_type": "fragment"
    }
   },
   "source": [
    "4. Click \"New\" in the top-right corner and select \"Python 3\""
   ]
  },
  {
   "cell_type": "markdown",
   "metadata": {
    "slideshow": {
     "slide_type": "fragment"
    }
   },
   "source": [
    "5. You have a Jupyter notebook!"
   ]
  },
  {
   "cell_type": "markdown",
   "metadata": {
    "slideshow": {
     "slide_type": "subslide"
    }
   },
   "source": [
    "## Running code in Jupyter\n",
    "\n",
    "The little box you see is called a \"cell.\"\n",
    "\n",
    "You can enter (multi-line) code by typing in the cell, and then run the code by pressing \"Shift+Enter.\"\n",
    "\n",
    "To create a new cell, press the \"+\" button on lefthand side of the toolbar at the top of the screen!"
   ]
  },
  {
   "cell_type": "code",
   "execution_count": null,
   "metadata": {},
   "outputs": [],
   "source": []
  },
  {
   "cell_type": "markdown",
   "metadata": {
    "slideshow": {
     "slide_type": "fragment"
    }
   },
   "source": [
    "As I type code throughout this presentation you're encouraged to type along in your notebook!"
   ]
  },
  {
   "cell_type": "markdown",
   "metadata": {
    "slideshow": {
     "slide_type": "slide"
    }
   },
   "source": [
    "## What is Python?\n",
    "\n",
    "* Python is a programming language\n",
    "* Specifically, it's a widely used, very flexible, high-level, general-purpose, dynamic programming language\n",
    "* That's a mouthful! Let's explore each of these points in more detail..."
   ]
  },
  {
   "cell_type": "markdown",
   "metadata": {
    "slideshow": {
     "slide_type": "subslide"
    }
   },
   "source": [
    "### Widely-used\n",
    "* Python is the fastest-growing major programming language\n",
    "* Top 3 overall (with JavaScript, Java)"
   ]
  },
  {
   "cell_type": "markdown",
   "metadata": {
    "slideshow": {
     "slide_type": "fragment"
    }
   },
   "source": [
    "<center><img src=\"https://149351115.v2.pressablecdn.com/wp-content/uploads/2017/09/growth_major_languages-1-1400x1200.png\" width=\"800px\" style=\"margin-bottom: 10px;\"></center>"
   ]
  },
  {
   "cell_type": "markdown",
   "metadata": {
    "slideshow": {
     "slide_type": "subslide"
    }
   },
   "source": [
    "### High-level\n",
    "Python features a high level of abstraction\n",
    "* Many operations that are explicit in lower-level languages (e.g., C/C++) are implicit in Python\n",
    "* E.g., memory allocation, garbage collection, etc.\n",
    "* Python lets you write code faster"
   ]
  },
  {
   "cell_type": "markdown",
   "metadata": {
    "slideshow": {
     "slide_type": "subslide"
    }
   },
   "source": [
    "#### File reading in Java\n",
    "```java\n",
    "import java.io.BufferedReader;\n",
    "import java.io.FileReader;\n",
    "import java.io.IOException;\n",
    " \n",
    "public class ReadFile {\n",
    "    public static void main(String[] args) throws IOException{\n",
    "        String fileContents = readEntireFile(\"./foo.txt\");\n",
    "    }\n",
    " \n",
    "    private static String readEntireFile(String filename) throws IOException {\n",
    "        FileReader in = new FileReader(filename);\n",
    "        StringBuilder contents = new StringBuilder();\n",
    "        char[] buffer = new char[4096];\n",
    "        int read = 0;\n",
    "        do {\n",
    "            contents.append(buffer, 0, read);\n",
    "            read = in.read(buffer);\n",
    "        } while (read >= 0);\n",
    "        return contents.toString();\n",
    "    }\n",
    "}\n",
    "```"
   ]
  },
  {
   "cell_type": "raw",
   "metadata": {
    "slideshow": {
     "slide_type": "subslide"
    }
   },
   "source": [
    "#### File-reading in Python\n",
    "```python\n",
    "open(filename).read()\n",
    "```"
   ]
  },
  {
   "cell_type": "markdown",
   "metadata": {
    "slideshow": {
     "slide_type": "subslide"
    }
   },
   "source": [
    "### General-purpose\n",
    "You can do almost everything in Python\n",
    "* Comprehensive standard library\n",
    "* Enormous ecosystem of third-party packages\n",
    "* Widely used in many areas of software development (web, dev-ops, data science, etc.)"
   ]
  },
  {
   "cell_type": "markdown",
   "metadata": {
    "slideshow": {
     "slide_type": "subslide"
    }
   },
   "source": [
    "### Dynamic\n",
    "Code is interpreted at run-time\n",
    "* No compilation process*; code is read line-by-line when executed\n",
    "* Eliminates delays between development and execution\n",
    "* The downside: poorer performance compared to compiled languages"
   ]
  },
  {
   "cell_type": "markdown",
   "metadata": {
    "slideshow": {
     "slide_type": "subslide"
    }
   },
   "source": [
    "<center><img src=\"https://imgs.xkcd.com/comics/python.png\"></center>"
   ]
  },
  {
   "cell_type": "markdown",
   "metadata": {
    "slideshow": {
     "slide_type": "fragment"
    }
   },
   "source": [
    "(Try typing `import antigravity` into a new cell and running it!)"
   ]
  },
  {
   "cell_type": "markdown",
   "metadata": {
    "slideshow": {
     "slide_type": "slide"
    }
   },
   "source": [
    "## Variables and data types\n",
    "* In Python, we declare a variable by assigning it a value with the = sign\n",
    "    * Variables are pointers, not data stores!\n",
    "* Python supports a variety of data types and structures:\n",
    "    * booleans\n",
    "    * numbers (ints, floats, etc.)\n",
    "    * strings\n",
    "    * lists\n",
    "    * dictionaries\n",
    "    * many others!\n",
    "* We don't specify a variable's type at assignment"
   ]
  },
  {
   "cell_type": "markdown",
   "metadata": {
    "slideshow": {
     "slide_type": "subslide"
    }
   },
   "source": [
    "### Basic math"
   ]
  },
  {
   "cell_type": "code",
   "execution_count": 1,
   "metadata": {
    "scrolled": true,
    "slideshow": {
     "slide_type": "fragment"
    }
   },
   "outputs": [
    {
     "data": {
      "text/plain": [
       "2"
      ]
     },
     "execution_count": 1,
     "metadata": {},
     "output_type": "execute_result"
    }
   ],
   "source": [
    "# Addition\n",
    "1 + 1"
   ]
  },
  {
   "cell_type": "code",
   "execution_count": 2,
   "metadata": {
    "slideshow": {
     "slide_type": "fragment"
    }
   },
   "outputs": [
    {
     "data": {
      "text/plain": [
       "3"
      ]
     },
     "execution_count": 2,
     "metadata": {},
     "output_type": "execute_result"
    }
   ],
   "source": [
    "# Multiplication\n",
    "1 * 3"
   ]
  },
  {
   "cell_type": "code",
   "execution_count": 3,
   "metadata": {
    "slideshow": {
     "slide_type": "fragment"
    }
   },
   "outputs": [
    {
     "data": {
      "text/plain": [
       "0.5"
      ]
     },
     "execution_count": 3,
     "metadata": {},
     "output_type": "execute_result"
    }
   ],
   "source": [
    "# Division\n",
    "1 / 2"
   ]
  },
  {
   "cell_type": "code",
   "execution_count": 4,
   "metadata": {
    "slideshow": {
     "slide_type": "fragment"
    }
   },
   "outputs": [
    {
     "data": {
      "text/plain": [
       "4"
      ]
     },
     "execution_count": 4,
     "metadata": {},
     "output_type": "execute_result"
    }
   ],
   "source": [
    "# Floor division\n",
    "9 // 2"
   ]
  },
  {
   "cell_type": "code",
   "execution_count": 5,
   "metadata": {
    "slideshow": {
     "slide_type": "fragment"
    }
   },
   "outputs": [
    {
     "data": {
      "text/plain": [
       "16"
      ]
     },
     "execution_count": 5,
     "metadata": {},
     "output_type": "execute_result"
    }
   ],
   "source": [
    "# Exponentiation\n",
    "2 ** 4"
   ]
  },
  {
   "cell_type": "code",
   "execution_count": 6,
   "metadata": {
    "slideshow": {
     "slide_type": "fragment"
    }
   },
   "outputs": [
    {
     "data": {
      "text/plain": [
       "0"
      ]
     },
     "execution_count": 6,
     "metadata": {},
     "output_type": "execute_result"
    }
   ],
   "source": [
    "# Modulo\n",
    "4 % 2"
   ]
  },
  {
   "cell_type": "code",
   "execution_count": 7,
   "metadata": {
    "slideshow": {
     "slide_type": "fragment"
    }
   },
   "outputs": [
    {
     "data": {
      "text/plain": [
       "1"
      ]
     },
     "execution_count": 7,
     "metadata": {},
     "output_type": "execute_result"
    }
   ],
   "source": [
    "# Modulo (imperfect)\n",
    "5 % 2"
   ]
  },
  {
   "cell_type": "markdown",
   "metadata": {
    "slideshow": {
     "slide_type": "subslide"
    }
   },
   "source": [
    "### Variables"
   ]
  },
  {
   "cell_type": "code",
   "execution_count": 4,
   "metadata": {
    "slideshow": {
     "slide_type": "fragment"
    }
   },
   "outputs": [],
   "source": [
    "# We generally we want to store the output of our calculations\n",
    "output = 3 + (5 * 4)"
   ]
  },
  {
   "cell_type": "code",
   "execution_count": 3,
   "metadata": {
    "slideshow": {
     "slide_type": "fragment"
    }
   },
   "outputs": [
    {
     "name": "stdout",
     "output_type": "stream",
     "text": [
      "23\n"
     ]
    }
   ],
   "source": [
    "# To display the value of the stored variable we use `print`\n",
    "print(output)"
   ]
  },
  {
   "cell_type": "code",
   "execution_count": 5,
   "metadata": {
    "slideshow": {
     "slide_type": "fragment"
    }
   },
   "outputs": [
    {
     "name": "stdout",
     "output_type": "stream",
     "text": [
      "230\n"
     ]
    }
   ],
   "source": [
    "# We can then use that variable in other operations!\n",
    "print(output * 10)"
   ]
  },
  {
   "cell_type": "markdown",
   "metadata": {
    "slideshow": {
     "slide_type": "fragment"
    }
   },
   "source": [
    "Variable names:\n",
    "\n",
    "* Can include letters, digits, and underscores\n",
    "* Cannot start with a digit\n",
    "* Are case sensitive.\n",
    "\n",
    "This means that, for example:\n",
    "\n",
    "* `weight0` is a valid variable name, whereas `0weight` is not\n",
    "* `weight` and `Weight` are different variables"
   ]
  },
  {
   "cell_type": "markdown",
   "metadata": {
    "slideshow": {
     "slide_type": "subslide"
    }
   },
   "source": [
    "### Basic data types"
   ]
  },
  {
   "cell_type": "code",
   "execution_count": null,
   "metadata": {
    "slideshow": {
     "slide_type": "fragment"
    }
   },
   "outputs": [],
   "source": [
    "# An integer (notice the naming convention of the variable!)\n",
    "age_in_years = 20"
   ]
  },
  {
   "cell_type": "code",
   "execution_count": null,
   "metadata": {
    "slideshow": {
     "slide_type": "fragment"
    }
   },
   "outputs": [],
   "source": [
    "# A float\n",
    "almost_pi = 3.14"
   ]
  },
  {
   "cell_type": "code",
   "execution_count": 8,
   "metadata": {
    "slideshow": {
     "slide_type": "fragment"
    }
   },
   "outputs": [
    {
     "name": "stdout",
     "output_type": "stream",
     "text": [
      "B is for banana\n"
     ]
    }
   ],
   "source": [
    "# A string (double quotes also work!)\n",
    "banana = 'B is for banana'\n",
    "banana = \"B is for banana\"\n",
    "print(banana)\n"
   ]
  },
  {
   "cell_type": "code",
   "execution_count": null,
   "metadata": {
    "slideshow": {
     "slide_type": "fragment"
    }
   },
   "outputs": [],
   "source": [
    "# A boolean\n",
    "enjoying_tutorial = True  \n",
    "being_bored = False"
   ]
  },
  {
   "cell_type": "code",
   "execution_count": null,
   "metadata": {
    "slideshow": {
     "slide_type": "fragment"
    }
   },
   "outputs": [],
   "source": [
    "# None is a special type that means there's no value.\n",
    "# Note: it is *not* the same as False!\n",
    "# Note 2: functions that don't explicitly return a value will instead return None.\n",
    "name = None"
   ]
  },
  {
   "cell_type": "markdown",
   "metadata": {
    "slideshow": {
     "slide_type": "subslide"
    }
   },
   "source": [
    "### Data structures\n",
    "* Most code requires more complex structures built out of basic data types\n",
    "* Python provides built-in support for many common structures\n",
    "    * Many additional structures can be found in the [collections](https://docs.python.org/3/library/collections.html) module"
   ]
  },
  {
   "cell_type": "markdown",
   "metadata": {
    "slideshow": {
     "slide_type": "subslide"
    }
   },
   "source": [
    "#### Lists\n",
    "* An ordered, heterogeneous collection of objects\n",
    "* List elements can be accessed by position"
   ]
  },
  {
   "cell_type": "code",
   "execution_count": 9,
   "metadata": {
    "slideshow": {
     "slide_type": "fragment"
    }
   },
   "outputs": [],
   "source": [
    "# Make a list with random stuff\n",
    "random_stuff = [1, 2.0, 'three'] "
   ]
  },
  {
   "cell_type": "code",
   "execution_count": 7,
   "metadata": {
    "slideshow": {
     "slide_type": "fragment"
    }
   },
   "outputs": [
    {
     "data": {
      "text/plain": [
       "1"
      ]
     },
     "execution_count": 7,
     "metadata": {},
     "output_type": "execute_result"
    }
   ],
   "source": [
    "# We index lists by numerical position (!!!! starting at 0; NOT AT 1 !!)\n",
    "random_stuff[0]"
   ]
  },
  {
   "cell_type": "code",
   "execution_count": 8,
   "metadata": {
    "slideshow": {
     "slide_type": "fragment"
    }
   },
   "outputs": [
    {
     "data": {
      "text/plain": [
       "[1, 2.0]"
      ]
     },
     "execution_count": 8,
     "metadata": {},
     "output_type": "execute_result"
    }
   ],
   "source": [
    "# We can also slice lists\n",
    "random_stuff[:2]"
   ]
  },
  {
   "cell_type": "code",
   "execution_count": 10,
   "metadata": {
    "slideshow": {
     "slide_type": "fragment"
    }
   },
   "outputs": [
    {
     "data": {
      "text/plain": [
       "[2.0, 'three']"
      ]
     },
     "execution_count": 10,
     "metadata": {},
     "output_type": "execute_result"
    }
   ],
   "source": [
    "# Negative integers start from the back of the list\n",
    "random_stuff[-2:]"
   ]
  },
  {
   "cell_type": "code",
   "execution_count": 11,
   "metadata": {
    "slideshow": {
     "slide_type": "fragment"
    }
   },
   "outputs": [
    {
     "data": {
      "text/plain": [
       "[1, 2.0, 'three', 4.0]"
      ]
     },
     "execution_count": 11,
     "metadata": {},
     "output_type": "execute_result"
    }
   ],
   "source": [
    "# Append an element\n",
    "random_stuff.append(4.0)\n",
    "random_stuff"
   ]
  },
  {
   "cell_type": "code",
   "execution_count": 12,
   "metadata": {
    "slideshow": {
     "slide_type": "fragment"
    }
   },
   "outputs": [
    {
     "data": {
      "text/plain": [
       "['one', 2.0, 'three', 4.0]"
      ]
     },
     "execution_count": 12,
     "metadata": {},
     "output_type": "execute_result"
    }
   ],
   "source": [
    "# Modify an element\n",
    "random_stuff[0] = 'one'\n",
    "random_stuff"
   ]
  },
  {
   "cell_type": "markdown",
   "metadata": {
    "slideshow": {
     "slide_type": "subslide"
    }
   },
   "source": [
    "#### Tuples\n",
    "* Very similar to lists\n",
    "* Key difference: tuples are *immutable*\n",
    "    * They can't be modified once they're created"
   ]
  },
  {
   "cell_type": "code",
   "execution_count": 13,
   "metadata": {
    "slideshow": {
     "slide_type": "fragment"
    }
   },
   "outputs": [],
   "source": [
    "# Tuples are initialized with parentheses, not brackets\n",
    "my_tuple = (10, 11)"
   ]
  },
  {
   "cell_type": "code",
   "execution_count": 14,
   "metadata": {
    "slideshow": {
     "slide_type": "fragment"
    }
   },
   "outputs": [
    {
     "data": {
      "text/plain": [
       "10"
      ]
     },
     "execution_count": 14,
     "metadata": {},
     "output_type": "execute_result"
    }
   ],
   "source": [
    "# We can subset tuples like lists\n",
    "my_tuple[0]"
   ]
  },
  {
   "cell_type": "code",
   "execution_count": 15,
   "metadata": {
    "slideshow": {
     "slide_type": "fragment"
    }
   },
   "outputs": [
    {
     "ename": "TypeError",
     "evalue": "'tuple' object does not support item assignment",
     "output_type": "error",
     "traceback": [
      "\u001b[0;31m---------------------------------------------------------------------------\u001b[0m",
      "\u001b[0;31mTypeError\u001b[0m                                 Traceback (most recent call last)",
      "\u001b[0;32m<ipython-input-15-3a6cc1ecd1ad>\u001b[0m in \u001b[0;36m<module>\u001b[0;34m\u001b[0m\n\u001b[1;32m      1\u001b[0m \u001b[0;31m# But *changing* tuples...\u001b[0m\u001b[0;34m\u001b[0m\u001b[0;34m\u001b[0m\u001b[0;34m\u001b[0m\u001b[0m\n\u001b[0;32m----> 2\u001b[0;31m \u001b[0mmy_tuple\u001b[0m\u001b[0;34m[\u001b[0m\u001b[0;36m0\u001b[0m\u001b[0;34m]\u001b[0m \u001b[0;34m=\u001b[0m \u001b[0;36m0\u001b[0m\u001b[0;34m\u001b[0m\u001b[0;34m\u001b[0m\u001b[0m\n\u001b[0m",
      "\u001b[0;31mTypeError\u001b[0m: 'tuple' object does not support item assignment"
     ]
    }
   ],
   "source": [
    "# But *changing* tuples...\n",
    "my_tuple[0] = 0"
   ]
  },
  {
   "cell_type": "markdown",
   "metadata": {
    "slideshow": {
     "slide_type": "subslide"
    }
   },
   "source": [
    "#### Dictionaries (dict)\n",
    "* Unordered collection of key-to-value pairs\n",
    "* dictionary elements can be accessed by key, **not** by position"
   ]
  },
  {
   "cell_type": "code",
   "execution_count": 18,
   "metadata": {
    "slideshow": {
     "slide_type": "fragment"
    }
   },
   "outputs": [],
   "source": [
    "# A dictionary is an unordered mapping from keys to values\n",
    "fruit_prices = {\n",
    "    'apple': 0.65,\n",
    "    'mango': 1.50,\n",
    "    'strawberry': '$3/lb',\n",
    "    'durian': 'unavailable'\n",
    "}"
   ]
  },
  {
   "cell_type": "code",
   "execution_count": 13,
   "metadata": {
    "slideshow": {
     "slide_type": "fragment"
    }
   },
   "outputs": [
    {
     "ename": "NameError",
     "evalue": "name 'fruit_prices' is not defined",
     "output_type": "error",
     "traceback": [
      "\u001b[0;31m---------------------------------------------------------------------------\u001b[0m",
      "\u001b[0;31mNameError\u001b[0m                                 Traceback (most recent call last)",
      "\u001b[0;32m<ipython-input-13-52717a9c78e2>\u001b[0m in \u001b[0;36m<module>\u001b[0;34m\u001b[0m\n\u001b[1;32m      1\u001b[0m \u001b[0;31m# We can query the values via the key\u001b[0m\u001b[0;34m\u001b[0m\u001b[0;34m\u001b[0m\u001b[0;34m\u001b[0m\u001b[0m\n\u001b[0;32m----> 2\u001b[0;31m \u001b[0mprint\u001b[0m\u001b[0;34m(\u001b[0m\u001b[0mfruit_prices\u001b[0m\u001b[0;34m[\u001b[0m\u001b[0;34m'mango'\u001b[0m\u001b[0;34m]\u001b[0m\u001b[0;34m)\u001b[0m\u001b[0;34m\u001b[0m\u001b[0;34m\u001b[0m\u001b[0m\n\u001b[0m",
      "\u001b[0;31mNameError\u001b[0m: name 'fruit_prices' is not defined"
     ]
    }
   ],
   "source": [
    "# We can query the values via the key\n",
    "fruit_prices['mango']"
   ]
  },
  {
   "cell_type": "code",
   "execution_count": 29,
   "metadata": {
    "slideshow": {
     "slide_type": "fragment"
    }
   },
   "outputs": [
    {
     "data": {
      "text/plain": [
       "{'apple': 0.65,\n",
       " 'mango': 1.5,\n",
       " 'strawberry': '$3/lb',\n",
       " 'durian': 'unavailable',\n",
       " 'pear': 1.0}"
      ]
     },
     "execution_count": 29,
     "metadata": {},
     "output_type": "execute_result"
    }
   ],
   "source": [
    "# And add new entries via assignment\n",
    "fruit_prices['pear'] = 1.00\n",
    "fruit_prices"
   ]
  },
  {
   "cell_type": "markdown",
   "metadata": {
    "slideshow": {
     "slide_type": "subslide"
    }
   },
   "source": [
    "### Everything is an object in Python\n",
    "* All of these 'data types' are actually just objects in Python\n",
    "* *Everything* is an object in Python!\n",
    "* The operations you can perform with a variable depend on the object's definition\n",
    "* E.g., the multiplication operator * is defined for some objects but not others"
   ]
  },
  {
   "cell_type": "code",
   "execution_count": 22,
   "metadata": {
    "slideshow": {
     "slide_type": "fragment"
    }
   },
   "outputs": [
    {
     "data": {
      "text/plain": [
       "4"
      ]
     },
     "execution_count": 22,
     "metadata": {},
     "output_type": "execute_result"
    }
   ],
   "source": [
    "# Multiply an int by 2\n",
    "2 * 2"
   ]
  },
  {
   "cell_type": "code",
   "execution_count": 23,
   "metadata": {
    "slideshow": {
     "slide_type": "fragment"
    }
   },
   "outputs": [
    {
     "data": {
      "text/plain": [
       "4.0"
      ]
     },
     "execution_count": 23,
     "metadata": {},
     "output_type": "execute_result"
    }
   ],
   "source": [
    "# Multiply a float by 2\n",
    "2.0 * 2"
   ]
  },
  {
   "cell_type": "code",
   "execution_count": 24,
   "metadata": {
    "slideshow": {
     "slide_type": "fragment"
    }
   },
   "outputs": [
    {
     "data": {
      "text/plain": [
       "'testtest'"
      ]
     },
     "execution_count": 24,
     "metadata": {},
     "output_type": "execute_result"
    }
   ],
   "source": [
    "# What about a string?\n",
    "'test' * 2"
   ]
  },
  {
   "cell_type": "code",
   "execution_count": 25,
   "metadata": {
    "slideshow": {
     "slide_type": "fragment"
    }
   },
   "outputs": [
    {
     "data": {
      "text/plain": [
       "[1, 2, 'trois', 1, 2, 'trois']"
      ]
     },
     "execution_count": 25,
     "metadata": {},
     "output_type": "execute_result"
    }
   ],
   "source": [
    "# A list?\n",
    "[1, 2,\"trois\"] * 2"
   ]
  },
  {
   "cell_type": "code",
   "execution_count": 14,
   "metadata": {
    "scrolled": true,
    "slideshow": {
     "slide_type": "fragment"
    }
   },
   "outputs": [
    {
     "ename": "TypeError",
     "evalue": "unsupported operand type(s) for *: 'dict' and 'int'",
     "output_type": "error",
     "traceback": [
      "\u001b[0;31m---------------------------------------------------------------------------\u001b[0m",
      "\u001b[0;31mTypeError\u001b[0m                                 Traceback (most recent call last)",
      "\u001b[0;32m<ipython-input-14-2aa1cda08fb6>\u001b[0m in \u001b[0;36m<module>\u001b[0;34m\u001b[0m\n\u001b[1;32m      1\u001b[0m \u001b[0;31m# A dictionary?\u001b[0m\u001b[0;34m\u001b[0m\u001b[0;34m\u001b[0m\u001b[0;34m\u001b[0m\u001b[0m\n\u001b[0;32m----> 2\u001b[0;31m \u001b[0;34m{\u001b[0m\u001b[0;34m'pear'\u001b[0m\u001b[0;34m:\u001b[0m \u001b[0;36m1.00\u001b[0m\u001b[0;34m}\u001b[0m \u001b[0;34m*\u001b[0m \u001b[0;36m2\u001b[0m\u001b[0;34m\u001b[0m\u001b[0;34m\u001b[0m\u001b[0m\n\u001b[0m",
      "\u001b[0;31mTypeError\u001b[0m: unsupported operand type(s) for *: 'dict' and 'int'"
     ]
    }
   ],
   "source": [
    "# A dictionary?\n",
    "{'pear': 1.00} "
   ]
  },
  {
   "cell_type": "markdown",
   "metadata": {
    "slideshow": {
     "slide_type": "subslide"
    }
   },
   "source": [
    "## Control structures\n",
    "* Language features that allow us to control how code is executed\n",
    "* Iteration (e.g., for-loops, while statements...)\n",
    "* Conditionals (if-then-else statements)\n",
    "* [Etc](https://docs.python.org/3/tutorial/controlflow.html)..."
   ]
  },
  {
   "cell_type": "code",
   "execution_count": 15,
   "metadata": {
    "slideshow": {
     "slide_type": "fragment"
    }
   },
   "outputs": [
    {
     "name": "stdout",
     "output_type": "stream",
     "text": [
      "a is equal to b\n"
     ]
    }
   ],
   "source": [
    "# Write an if-elif-else statement...\n",
    "a = 1\n",
    "b = 0\n",
    "if a > b:\n",
    "    print('a is greater than b')\n",
    "elif a == b:\n",
    "    print('a is equal to b')\n",
    "else:\n",
    "    print('a is less than b')"
   ]
  },
  {
   "cell_type": "code",
   "execution_count": 47,
   "metadata": {
    "slideshow": {
     "slide_type": "fragment"
    }
   },
   "outputs": [
    {
     "name": "stdout",
     "output_type": "stream",
     "text": [
      "one\n",
      "2.0\n",
      "three\n",
      "4.0\n"
     ]
    }
   ],
   "source": [
    "# Loop over the random_stuff list we created earlier and print each value.\n",
    "# Alternatively, loop over integers and index into the random_stuff list.\n",
    "for element in random_stuff:\n",
    "    print(element)\n",
    "    \n",
    "# for element = 1:length(random_stuff)\n",
    "# print (random_stuff(element))\n",
    "# end\n",
    "#Ça serait l'équivalent en MatLab"
   ]
  },
  {
   "cell_type": "code",
   "execution_count": 48,
   "metadata": {
    "slideshow": {
     "slide_type": "fragment"
    }
   },
   "outputs": [
    {
     "name": "stdout",
     "output_type": "stream",
     "text": [
      "['oneone', 4.0, 'threethree', 8.0]\n"
     ]
    }
   ],
   "source": [
    "# Now multiply each element in the list with a comprehension\n",
    "double_stuff = [element * 2 for element in random_stuff]\n",
    "print(double_stuff)"
   ]
  },
  {
   "cell_type": "markdown",
   "metadata": {},
   "source": [
    "####  [list-comprehension tutorial](https://www.programiz.com/python-programming/list-comprehension)"
   ]
  },
  {
   "cell_type": "markdown",
   "metadata": {},
   "source": [
    "### Syntax for list comprehension\n",
    "\n",
    "[**expression** for *item* in *list*] . Works also for strings and tuples! Python's comprehension detects the format automatically."
   ]
  },
  {
   "cell_type": "code",
   "execution_count": 52,
   "metadata": {
    "slideshow": {
     "slide_type": "fragment"
    }
   },
   "outputs": [
    {
     "name": "stdout",
     "output_type": "stream",
     "text": [
      "i is 0\n",
      "i is 1\n",
      "i is 2\n",
      "i is 3\n",
      "i is 4\n"
     ]
    }
   ],
   "source": [
    "# Let's try a `while` loop\n",
    "i = 0\n",
    "while i < 5:\n",
    "    print('i is {}'.format(i)) # {} is a placeholder\n",
    "    i = i + 1\n",
    "#     print('i is {}'.format(i).split())"
   ]
  },
  {
   "cell_type": "markdown",
   "metadata": {
    "slideshow": {
     "slide_type": "subslide"
    }
   },
   "source": [
    "## Namespaces and imports\n",
    "* Python is very serious about maintaining orderly namespaces\n",
    "* If you want to use some code outside the current scope, you need to explicitly \"import\" it\n",
    "* Python's import system often annoys beginners, but it substantially increases code clarity\n",
    "    * Almost completely eliminates naming conflicts and confusion\n",
    "\n",
    "There are (at least) three different ways to import and access things from packages:"
   ]
  },
  {
   "cell_type": "code",
   "execution_count": 53,
   "metadata": {
    "slideshow": {
     "slide_type": "fragment"
    }
   },
   "outputs": [
    {
     "name": "stdout",
     "output_type": "stream",
     "text": [
      "3.141592653589793\n"
     ]
    }
   ],
   "source": [
    "# import ..\n",
    "import math\n",
    "print(math.pi)"
   ]
  },
  {
   "cell_type": "code",
   "execution_count": null,
   "metadata": {
    "slideshow": {
     "slide_type": "fragment"
    }
   },
   "outputs": [],
   "source": [
    "# from .. import ..\n",
    "from math import pi\n",
    "print(pi)"
   ]
  },
  {
   "cell_type": "code",
   "execution_count": null,
   "metadata": {
    "slideshow": {
     "slide_type": "fragment"
    }
   },
   "outputs": [],
   "source": [
    "# from .. import .. as ..\n",
    "from math import pi as PI\n",
    "print(PI)"
   ]
  },
  {
   "cell_type": "markdown",
   "metadata": {
    "slideshow": {
     "slide_type": "subslide"
    }
   },
   "source": [
    "## Functions\n",
    "* A block of code that only runs when explicitly called\n",
    "* Can accept arguments (or parameters) that alter its behavior\n",
    "* Can accept any number/type of inputs, but always return a single object\n",
    "    * Note: functions can return tuples (may *look like* multiple objects)"
   ]
  },
  {
   "cell_type": "code",
   "execution_count": 55,
   "metadata": {
    "slideshow": {
     "slide_type": "fragment"
    }
   },
   "outputs": [],
   "source": [
    "# We'll need the random module for this\n",
    "import random\n",
    "\n",
    "def add_noise(x, mu, sd):\n",
    "    \"\"\"\n",
    "    Adds gaussian noise to the input.\n",
    "    \n",
    "    Parameters\n",
    "    ----------\n",
    "    x : number\n",
    "        The number to add noise to\n",
    "    mu : float\n",
    "        The mean of the gaussian noise distribution\n",
    "    sd : float\n",
    "        The standard deviation of the noise distribution\n",
    "    \n",
    "    Returns\n",
    "    -------\n",
    "    float\n",
    "    \"\"\"\n",
    "\n",
    "    noise = random.normalvariate(mu, sd)\n",
    "    return (x + noise)"
   ]
  },
  {
   "cell_type": "code",
   "execution_count": 62,
   "metadata": {
    "scrolled": true,
    "slideshow": {
     "slide_type": "fragment"
    }
   },
   "outputs": [
    {
     "data": {
      "text/plain": [
       "10.946014522825175"
      ]
     },
     "execution_count": 62,
     "metadata": {},
     "output_type": "execute_result"
    }
   ],
   "source": [
    "# Let's try calling it...\n",
    "add_noise(10, 0, 1)"
   ]
  },
  {
   "cell_type": "code",
   "execution_count": 71,
   "metadata": {},
   "outputs": [
    {
     "data": {
      "text/plain": [
       "array([10.73729315, 10.73729315])"
      ]
     },
     "execution_count": 71,
     "metadata": {},
     "output_type": "execute_result"
    }
   ],
   "source": [
    "import numpy as np\n",
    "\n",
    "add_noise(np.array([10,10]),0,1)"
   ]
  },
  {
   "cell_type": "markdown",
   "metadata": {
    "slideshow": {
     "slide_type": "subslide"
    }
   },
   "source": [
    "### Positional vs. keyword arguments\n",
    "* Positional arguments are defined by position and *must* be passed\n",
    "    * Arguments in the function signature are filled in order\n",
    "* Keyword arguments have a default value\n",
    "    * Arguments can be passed in arbitrary order (after any positional arguments)"
   ]
  },
  {
   "cell_type": "code",
   "execution_count": 72,
   "metadata": {
    "slideshow": {
     "slide_type": "fragment"
    }
   },
   "outputs": [],
   "source": [
    "def add_noise_with_defaults(x, mu=0, sd=1):\n",
    "    \"\"\"\n",
    "    Adds gaussian noise to the input.\n",
    "    \n",
    "    Parameters\n",
    "    ----------\n",
    "    x : number\n",
    "        The number to add noise to\n",
    "    mu : float, optional\n",
    "        The mean of the gaussian noise distribution. Default: 0\n",
    "    sd : float, optional\n",
    "        The standard deviation of the noise distribution. Default: 1\n",
    "    \n",
    "    Returns\n",
    "    -------\n",
    "    float\n",
    "    \"\"\"\n",
    "\n",
    "    noise = random.normalvariate(mu, sd)\n",
    "    return x + noise"
   ]
  },
  {
   "cell_type": "code",
   "execution_count": 73,
   "metadata": {
    "slideshow": {
     "slide_type": "fragment"
    }
   },
   "outputs": [
    {
     "data": {
      "text/plain": [
       "10.182757699602094"
      ]
     },
     "execution_count": 73,
     "metadata": {},
     "output_type": "execute_result"
    }
   ],
   "source": [
    "# Let's call it again...\n",
    "add_noise_with_defaults(10)"
   ]
  },
  {
   "cell_type": "code",
   "execution_count": 74,
   "metadata": {},
   "outputs": [
    {
     "data": {
      "text/plain": [
       "20.296648187896675"
      ]
     },
     "execution_count": 74,
     "metadata": {},
     "output_type": "execute_result"
    }
   ],
   "source": [
    "# Let's call it again...\n",
    "add_noise_with_defaults(10,sd=10,mu=1)"
   ]
  },
  {
   "cell_type": "markdown",
   "metadata": {
    "slideshow": {
     "slide_type": "slide"
    }
   },
   "source": [
    "# Why do data science in Python?"
   ]
  },
  {
   "cell_type": "markdown",
   "metadata": {
    "slideshow": {
     "slide_type": "subslide"
    }
   },
   "source": [
    "## Easy to learn\n",
    "* Readable, explicit syntax\n",
    "* Most packages are very well documented\n",
    "    * e.g., `scikit-learn`'s [documentation](http://scikit-learn.org/stable/documentation.html) is widely held up as a model\n",
    "* A huge number of tutorials, guides, and other educational materials"
   ]
  },
  {
   "cell_type": "markdown",
   "metadata": {
    "slideshow": {
     "slide_type": "subslide"
    }
   },
   "source": [
    "## Comprehensive standard library\n",
    "* The [Python standard library](https://docs.python.org/2/library/) contains a huge number of high-quality modules\n",
    "* When in doubt, check the standard library first before you write your own tools!\n",
    "* For example:\n",
    "    * `os`: operating system tools\n",
    "    * `re`: regular expressions\n",
    "    * `collections`: useful data structures\n",
    "    * `multiprocessing`: simple parallelization tools\n",
    "    * `pickle`: serialization\n",
    "    * `json`: reading and writing JSON"
   ]
  },
  {
   "cell_type": "markdown",
   "metadata": {
    "slideshow": {
     "slide_type": "subslide"
    }
   },
   "source": [
    "## Exceptional external libraries\n",
    "\n",
    "* Python has very good (often best-in-class) external packages for almost everything\n",
    "* Particularly important for data science, which draws on a very broad toolkit\n",
    "* Package management is easy (conda, pip)\n",
    "* Examples:\n",
    "    * Web development: flask, Django\n",
    "    * Database ORMs: SQLAlchemy, Django ORM (w/ adapters for all major DBs)\n",
    "    * Scraping/parsing text/markup: beautifulsoup, scrapy\n",
    "    * Natural language processing (NLP): nltk, gensim, textblob\n",
    "    * Numerical computation and data analysis: numpy, scipy, pandas, xarray\n",
    "    * Machine learning: scikit-learn, Tensorflow, keras\n",
    "    * Image processing: pillow, scikit-image, OpenCV\n",
    "    * Plotting: matplotlib, seaborn, altair, ggplot, Bokeh\n",
    "    * GUI development: pyQT, wxPython\n",
    "    * Testing: py.test\n",
    "    * Etc. etc. etc."
   ]
  },
  {
   "cell_type": "markdown",
   "metadata": {
    "slideshow": {
     "slide_type": "subslide"
    }
   },
   "source": [
    "## (Relatively) good performance\n",
    "* Python is a high-level dynamic language—this comes at a performance cost\n",
    "* For many (not all!) data scientists, performance is irrelevant most of the time\n",
    "* In general, the less Python code you write yourself, the better your performance will be\n",
    "    * Much of the standard library consists of Python interfaces to C functions\n",
    "    * Numpy, scikit-learn, etc. all rely heavily on C/C++ or Fortran"
   ]
  },
  {
   "cell_type": "markdown",
   "metadata": {
    "slideshow": {
     "slide_type": "subslide"
    }
   },
   "source": [
    "### R\n",
    "* [R](https://www.r-project.org/) is dominant in traditional statistics and some fields of science\n",
    "    * Has attracted many SAS, SPSS, and Stata users\n",
    "* Exceptional statistics support; hundreds of best-in-class libraries\n",
    "* Designed to make data analysis and visualization as easy as possible\n",
    "* Slow\n",
    "* Language quirks drive many experienced software developers crazy\n",
    "* Less support for most things non-data-related"
   ]
  },
  {
   "cell_type": "markdown",
   "metadata": {
    "slideshow": {
     "slide_type": "subslide"
    }
   },
   "source": [
    "### MATLAB\n",
    "* A proprietary numerical computing language widely used by engineers\n",
    "* Good performance and very active development, but expensive\n",
    "* Closed ecosystem, relatively few third-party libraries\n",
    "    * There is an open-source port (Octave)"
   ]
  },
  {
   "cell_type": "markdown",
   "metadata": {
    "slideshow": {
     "slide_type": "subslide"
    }
   },
   "source": [
    "## So, why Python?\n",
    "Why choose Python over other languages?\n",
    "* Python has a combination of readability, flexibility, libraries, and performance. And is free and open-source!\n",
    "* Python is sometimes described as \"the second best language for everything\"\n",
    "* Doesn't mean you should always use Python\n",
    "    * Depends on your needs, community, etc."
   ]
  },
  {
   "cell_type": "markdown",
   "metadata": {
    "slideshow": {
     "slide_type": "slide"
    }
   },
   "source": [
    "# The core Python data science stack\n",
    "* The Python ecosystem contains tens of thousands of packages\n",
    "* Several are very widely used in data science applications:\n",
    "    * [Jupyter](http://jupyter.org): interactive notebooks\n",
    "    * [Numpy](http://numpy.org): numerical computing in Python\n",
    "    * [pandas](http://pandas.pydata.org/): data structures for Python\n",
    "    * [Scipy](http://scipy.org): scientific Python tools\n",
    "    * [Matplotlib](http://matplotlib.org): plotting in Python\n",
    "    * [scikit-learn](http://scikit-learn.org): machine learning in Python\n",
    "* We'll cover the first three very briefly here\n",
    "    * Other tutorials will go into greater detail on most of the others"
   ]
  },
  {
   "cell_type": "markdown",
   "metadata": {
    "slideshow": {
     "slide_type": "slide"
    }
   },
   "source": [
    "# The Jupyter notebook\n",
    "* \"The [Jupyter Notebook](http://jupyter.org) is a web application that allows you to create and share documents that contain live code, equations, visualizations and explanatory text.\"\n",
    "    * You can [try it online](http://jupyter.org/try)\n",
    "* Supports [many different languages](https://github.com/jupyter/jupyter/wiki/Jupyter-kernels)\n",
    "* A living document wrapped around a command prompt\n",
    "* Various extensions and [widgets](http://ipywidgets.readthedocs.io/en/latest/index.html)"
   ]
  },
  {
   "cell_type": "markdown",
   "metadata": {
    "slideshow": {
     "slide_type": "subslide"
    }
   },
   "source": [
    "## Why Jupyter?\n",
    "* An easy way to write and share completely reproducible documents\n",
    "* Combine code, results, and text in one place\n",
    "* You can mix languages\n",
    "* Completely interactive: make a change and see what happens\n",
    "* Execution order matters"
   ]
  },
  {
   "cell_type": "markdown",
   "metadata": {
    "slideshow": {
     "slide_type": "subslide"
    }
   },
   "source": [
    "### Slideshow mode\n",
    "* These slides are actually a live Jupyter notebook\n",
    "* We can edit and execute cells on-the-fly\n",
    "* The slideshow extension is installed separately; follow the instructions [here](https://github.com/damianavila/RISE)"
   ]
  },
  {
   "cell_type": "markdown",
   "metadata": {
    "slideshow": {
     "slide_type": "subslide"
    }
   },
   "source": [
    "### Built-in LaTeX support\n",
    "$$ F(k) = \\int_{-\\infty}^{\\infty} f(x) e^{2\\pi i k} dx $$"
   ]
  },
  {
   "cell_type": "markdown",
   "metadata": {
    "slideshow": {
     "slide_type": "subslide"
    }
   },
   "source": [
    "### Highly customizable\n",
    "* Custom key bindings\n",
    "* Supports [web standards](http://jupyter-notebook.readthedocs.io/en/stable/examples/Notebook/JavaScript%20Notebook%20Extensions.html#) that enable near-limitless customization via JavaScript\n",
    "* All kinds of [unofficial extensions](http://jupyter-contrib-nbextensions.readthedocs.io/en/latest/)"
   ]
  },
  {
   "cell_type": "markdown",
   "metadata": {
    "slideshow": {
     "slide_type": "subslide"
    }
   },
   "source": [
    "### Magic functions\n",
    "* Jupyter/IPython includes a number of [\"magic\" commands](http://ipython.readthedocs.io/en/stable/interactive/magics.html) to make life easier\n",
    "* Support in-line plotting, timing, debugging, calling other languages, etc."
   ]
  },
  {
   "cell_type": "code",
   "execution_count": 16,
   "metadata": {
    "slideshow": {
     "slide_type": "fragment"
    }
   },
   "outputs": [
    {
     "name": "stdout",
     "output_type": "stream",
     "text": [
      "CPU times: user 0 ns, sys: 0 ns, total: 0 ns\n",
      "Wall time: 20.7 µs\n"
     ]
    },
    {
     "data": {
      "text/plain": [
       "4"
      ]
     },
     "execution_count": 16,
     "metadata": {},
     "output_type": "execute_result"
    }
   ],
   "source": [
    "# This will time how long it takes to multiply 2 * 2 exactly once\n",
    "%time 2 * 2"
   ]
  },
  {
   "cell_type": "code",
   "execution_count": null,
   "metadata": {
    "slideshow": {
     "slide_type": "fragment"
    }
   },
   "outputs": [],
   "source": [
    "# And this will run 2*2 ~100 million times to report the average\n",
    "%timeit 2 * 2"
   ]
  },
  {
   "cell_type": "markdown",
   "metadata": {
    "slideshow": {
     "slide_type": "subslide"
    }
   },
   "source": [
    "### Combining R and Python with the %R magic\n",
    "* In the same notebook\n",
    "* And even in the same notebook cell!\n",
    "* Can also use an [R kernel](https://irkernel.github.io/) with the notebook"
   ]
  },
  {
   "cell_type": "markdown",
   "metadata": {
    "slideshow": {
     "slide_type": "subslide"
    }
   },
   "source": [
    "### Getting help in Jupyter\n",
    "* Explore the options under the \"Help\" menu\n",
    "* Press the 'h' key (in cell mode) to see keyboard shortcuts\n",
    "* Shift-tab inside Python function calls will show you the function signature/arguments\n",
    "* Prefix any Python function with '?' to bring up its documentation\n",
    "* Prefix any command with '!' to run it as an operating system command (use sparingly!)"
   ]
  },
  {
   "cell_type": "code",
   "execution_count": 75,
   "metadata": {
    "slideshow": {
     "slide_type": "fragment"
    }
   },
   "outputs": [],
   "source": [
    "# Import numpy and get the help documentation for reshape\n",
    "import numpy as np\n",
    "\n",
    "np.reshape?"
   ]
  },
  {
   "cell_type": "markdown",
   "metadata": {
    "slideshow": {
     "slide_type": "slide"
    }
   },
   "source": [
    "## Numpy\n",
    "* \"The fundamental package for scientific computing with Python\"\n",
    "* The basic building block of most data analysis in Python\n",
    "* Numpy arrays: N-dimensional, homogeneous, unlabeled arrays\n",
    "* Working with numpy will look familiar if you've spent time in an environment like R or Matlab\n",
    "    * There are handy cheat sheets for [Matlab](http://mathesaurus.sourceforge.net/matlab-numpy.html) and [R](http://mathesaurus.sourceforge.net/r-numpy.html) users\n",
    "* Numpy contains highly optimized routines for creating and manipulating arrays"
   ]
  },
  {
   "cell_type": "markdown",
   "metadata": {
    "slideshow": {
     "slide_type": "subslide"
    }
   },
   "source": [
    "### Simple examples\n",
    "To give you a very cursory feel for numpy, let's walk through a few basic operations."
   ]
  },
  {
   "cell_type": "code",
   "execution_count": 76,
   "metadata": {
    "slideshow": {
     "slide_type": "fragment"
    }
   },
   "outputs": [],
   "source": [
    "# By convention, we assign numpy to the variable np for brevity\n",
    "import numpy as np"
   ]
  },
  {
   "cell_type": "code",
   "execution_count": 77,
   "metadata": {
    "scrolled": true,
    "slideshow": {
     "slide_type": "fragment"
    }
   },
   "outputs": [
    {
     "name": "stdout",
     "output_type": "stream",
     "text": [
      "[[0. 0. 0. 0. 0. 0. 0. 0. 0. 0.]\n",
      " [0. 0. 0. 0. 0. 0. 0. 0. 0. 0.]\n",
      " [0. 0. 0. 0. 0. 0. 0. 0. 0. 0.]\n",
      " [0. 0. 0. 0. 0. 0. 0. 0. 0. 0.]\n",
      " [0. 0. 0. 0. 0. 0. 0. 0. 0. 0.]\n",
      " [0. 0. 0. 0. 0. 0. 0. 0. 0. 0.]\n",
      " [0. 0. 0. 0. 0. 0. 0. 0. 0. 0.]\n",
      " [0. 0. 0. 0. 0. 0. 0. 0. 0. 0.]\n",
      " [0. 0. 0. 0. 0. 0. 0. 0. 0. 0.]\n",
      " [0. 0. 0. 0. 0. 0. 0. 0. 0. 0.]]\n"
     ]
    }
   ],
   "source": [
    "# Create an empty 10 x 10 array of zeros\n",
    "array_demo = np.zeros(shape=(10, 10))\n",
    "print(array_demo)"
   ]
  },
  {
   "cell_type": "code",
   "execution_count": 78,
   "metadata": {
    "slideshow": {
     "slide_type": "fragment"
    }
   },
   "outputs": [
    {
     "name": "stdout",
     "output_type": "stream",
     "text": [
      "(10, 10)\n"
     ]
    }
   ],
   "source": [
    "# Inspect the array: what can we learn about its dimensionality?\n",
    "print(array_demo.shape)"
   ]
  },
  {
   "cell_type": "code",
   "execution_count": 80,
   "metadata": {
    "slideshow": {
     "slide_type": "fragment"
    }
   },
   "outputs": [
    {
     "name": "stdout",
     "output_type": "stream",
     "text": [
      "float64\n"
     ]
    }
   ],
   "source": [
    "# Its data type?\n",
    "print(array_demo.dtype)"
   ]
  },
  {
   "cell_type": "code",
   "execution_count": 81,
   "metadata": {
    "slideshow": {
     "slide_type": "fragment"
    }
   },
   "outputs": [
    {
     "data": {
      "text/plain": [
       "array([   0,    1,    2, ..., 9997, 9998, 9999])"
      ]
     },
     "execution_count": 81,
     "metadata": {},
     "output_type": "execute_result"
    }
   ],
   "source": [
    "# Create a 1D numpy array with values 0 through 999\n",
    "array_1d = np.arange(10000)\n",
    "array_1d"
   ]
  },
  {
   "cell_type": "code",
   "execution_count": 84,
   "metadata": {
    "slideshow": {
     "slide_type": "fragment"
    }
   },
   "outputs": [
    {
     "data": {
      "text/plain": [
       "array([[   0,    1,    2, ...,   97,   98,   99],\n",
       "       [ 100,  101,  102, ...,  197,  198,  199],\n",
       "       [ 200,  201,  202, ...,  297,  298,  299],\n",
       "       ...,\n",
       "       [9700, 9701, 9702, ..., 9797, 9798, 9799],\n",
       "       [9800, 9801, 9802, ..., 9897, 9898, 9899],\n",
       "       [9900, 9901, 9902, ..., 9997, 9998, 9999]])"
      ]
     },
     "execution_count": 84,
     "metadata": {},
     "output_type": "execute_result"
    }
   ],
   "source": [
    "# Reshape our array to 100 x 1000\n",
    "array_2d = array_1d.reshape(100, 100)\n",
    "array_2d"
   ]
  },
  {
   "cell_type": "code",
   "execution_count": 85,
   "metadata": {
    "slideshow": {
     "slide_type": "fragment"
    }
   },
   "outputs": [
    {
     "data": {
      "text/plain": [
       "array([[    0,     2,     4, ...,   194,   196,   198],\n",
       "       [  200,   202,   204, ...,   394,   396,   398],\n",
       "       [  400,   402,   404, ...,   594,   596,   598],\n",
       "       ...,\n",
       "       [19400, 19402, 19404, ..., 19594, 19596, 19598],\n",
       "       [19600, 19602, 19604, ..., 19794, 19796, 19798],\n",
       "       [19800, 19802, 19804, ..., 19994, 19996, 19998]])"
      ]
     },
     "execution_count": 85,
     "metadata": {},
     "output_type": "execute_result"
    }
   ],
   "source": [
    "# Multiply every value in our array by 2\n",
    "array_times_2 = array_2d * 2\n",
    "array_times_2"
   ]
  },
  {
   "cell_type": "code",
   "execution_count": 91,
   "metadata": {
    "slideshow": {
     "slide_type": "fragment"
    }
   },
   "outputs": [
    {
     "data": {
      "text/plain": [
       "array([[  0,   2,   4,   6,   8,  10,  12,  14,  16,  18,  20,  22,  24,\n",
       "         26,  28,  30,  32,  34,  36,  38,  40,  42,  44,  46,  48,  50,\n",
       "         52,  54,  56,  58,  60,  62,  64,  66,  68,  70,  72,  74,  76,\n",
       "         78,  80,  82,  84,  86,  88,  90,  92,  94,  96,  98],\n",
       "       [200, 202, 204, 206, 208, 210, 212, 214, 216, 218, 220, 222, 224,\n",
       "        226, 228, 230, 232, 234, 236, 238, 240, 242, 244, 246, 248, 250,\n",
       "        252, 254, 256, 258, 260, 262, 264, 266, 268, 270, 272, 274, 276,\n",
       "        278, 280, 282, 284, 286, 288, 290, 292, 294, 296, 298]])"
      ]
     },
     "execution_count": 91,
     "metadata": {},
     "output_type": "execute_result"
    }
   ],
   "source": [
    "# Inspect the first 50 elements of each of the first two rows\n",
    "array_times_2[:2, :50]"
   ]
  },
  {
   "cell_type": "code",
   "execution_count": 92,
   "metadata": {},
   "outputs": [
    {
     "data": {
      "text/plain": [
       "<matplotlib.image.AxesImage at 0x7fb6e0e1dc50>"
      ]
     },
     "execution_count": 92,
     "metadata": {},
     "output_type": "execute_result"
    },
    {
     "data": {
      "image/png": "[encoded data removed]",
      "text/plain": [
       "<Figure size 432x288 with 1 Axes>"
      ]
     },
     "metadata": {
      "needs_background": "light"
     },
     "output_type": "display_data"
    }
   ],
   "source": [
    "import matplotlib.pyplot as plt\n",
    "\n",
    "tmp=np.arange(100).reshape(10,10) #on créer un vecteur de 100 et on le reshape pour qu'il soit de 10 par 10\n",
    "tmp=tmp.repeat(2,axis=0) #On répète la matrice en y 2 fois sur la dimension 0. Essaie de remplacer le 0 par 1, 2, 3, etc. pour voir ce que ça donne.\n",
    "plt.imshow(tmp)"
   ]
  },
  {
   "cell_type": "code",
   "execution_count": 103,
   "metadata": {},
   "outputs": [
    {
     "data": {
      "text/plain": [
       "<matplotlib.image.AxesImage at 0x7fb6b4321f50>"
      ]
     },
     "execution_count": 103,
     "metadata": {},
     "output_type": "execute_result"
    },
    {
     "data": {
      "image/png": "[encoded data removed]",
      "text/plain": [
       "<Figure size 432x288 with 1 Axes>"
      ]
     },
     "metadata": {
      "needs_background": "light"
     },
     "output_type": "display_data"
    }
   ],
   "source": [
    "tmp=np.arange(1,0,-.1) #On va de 1 à 0 en bond de -1, donc à l'envers\n",
    "# print(tmp)\n",
    "# tmp2=np.repeat(tmp,3,axis=0)\n",
    "# print(tmp2)\n",
    "a_tile=np.tile(tmp,(10,1))\n",
    "plt.imshow(a_tile)"
   ]
  },
  {
   "cell_type": "code",
   "execution_count": 104,
   "metadata": {},
   "outputs": [
    {
     "data": {
      "text/plain": [
       "<matplotlib.image.AxesImage at 0x7fb6b4294250>"
      ]
     },
     "execution_count": 104,
     "metadata": {},
     "output_type": "execute_result"
    },
    {
     "data": {
      "image/png": "[encoded data removed]",
      "text/plain": [
       "<Figure size 432x288 with 1 Axes>"
      ]
     },
     "metadata": {
      "needs_background": "light"
     },
     "output_type": "display_data"
    }
   ],
   "source": [
    "nn=10;\n",
    "petit_damier=np.zeros((nn*2,nn*2))\n",
    "pas=1/(nn);\n",
    "a_tile=np.tile(np.arange(1,0,-pas),(nn,1))\n",
    "plt.imshow(a_tile)\n",
    "\n",
    "petit_damier[:nn,:nn]=a_tile\n",
    "petit_damier[nn:nn*2,nn:nn*2]=a_tile\n",
    "plt.imshow(petit_damier)"
   ]
  },
  {
   "cell_type": "code",
   "execution_count": 105,
   "metadata": {},
   "outputs": [
    {
     "data": {
      "text/plain": [
       "<matplotlib.image.AxesImage at 0x7fb6b41f8950>"
      ]
     },
     "execution_count": 105,
     "metadata": {},
     "output_type": "execute_result"
    },
    {
     "data": {
      "image/png": "[encoded data removed]",
      "text/plain": [
       "<Figure size 432x288 with 1 Axes>"
      ]
     },
     "metadata": {
      "needs_background": "light"
     },
     "output_type": "display_data"
    }
   ],
   "source": [
    "nrows=5\n",
    "ncols=5\n",
    "grand_damier=np.tile(petit_damier,(nrows,ncols))\n",
    "plt.imshow(grand_damier)"
   ]
  },
  {
   "cell_type": "markdown",
   "metadata": {
    "slideshow": {
     "slide_type": "subslide"
    }
   },
   "source": [
    "## Everything revolves around numpy arrays\n",
    "* `pandas` adds powerful methods for manipulating numpy arrays\n",
    "* `scipy` adds a bunch of useful science and engineering routines that operate on numpy arrays\n",
    "* `scikit-learn` supports state-of-the-art machine learning over numpy arrays"
   ]
  },
  {
   "cell_type": "markdown",
   "metadata": {
    "slideshow": {
     "slide_type": "slide"
    }
   },
   "source": [
    "# Real-world data with numpy\n",
    "\n",
    "* We're going to try to load some real-world datasets and perform some basic summary stats on them\n",
    "* Thankfully both `numpy` has functionality for loading CSV files VERY EASILY\n",
    "    * And can read CSV files directly from the internet!"
   ]
  },
  {
   "cell_type": "markdown",
   "metadata": {
    "slideshow": {
     "slide_type": "subslide"
    }
   },
   "source": [
    "## Loading data\n",
    "\n",
    "Let's load the data and take a look at the type of the resulting object:"
   ]
  },
  {
   "cell_type": "code",
   "execution_count": null,
   "metadata": {
    "slideshow": {
     "slide_type": "fragment"
    }
   },
   "outputs": [],
   "source": [
    "# Load the dataset at https://bit.ly/nds-python-pure\n",
    "data = np.loadtxt('https://bit.ly/nds-python-pure')"
   ]
  },
  {
   "cell_type": "code",
   "execution_count": null,
   "metadata": {
    "slideshow": {
     "slide_type": "fragment"
    }
   },
   "outputs": [],
   "source": [
    "# Here's the data:\n",
    "print(data)"
   ]
  },
  {
   "cell_type": "code",
   "execution_count": null,
   "metadata": {
    "slideshow": {
     "slide_type": "fragment"
    }
   },
   "outputs": [],
   "source": [
    "# And its shape:\n",
    "print(data.shape)"
   ]
  },
  {
   "cell_type": "markdown",
   "metadata": {
    "slideshow": {
     "slide_type": "subslide"
    }
   },
   "source": [
    "## Data types in numpy\n",
    "\n",
    "Basic numpy arrays can only have ONE datatype at a time:"
   ]
  },
  {
   "cell_type": "code",
   "execution_count": null,
   "metadata": {
    "slideshow": {
     "slide_type": "fragment"
    }
   },
   "outputs": [],
   "source": [
    "# The type of the data:\n",
    "print(data.dtype)"
   ]
  },
  {
   "cell_type": "markdown",
   "metadata": {
    "slideshow": {
     "slide_type": "fragment"
    }
   },
   "source": [
    "So even though the second column of the dataset seems like it's all integers, it will be treated like a float for all calculation purposes.\n",
    "\n",
    "Not *necessarily* a problem for int --> float."
   ]
  },
  {
   "cell_type": "markdown",
   "metadata": {
    "slideshow": {
     "slide_type": "subslide"
    }
   },
   "source": [
    "# Summary statistics\n",
    "\n",
    "We can also compute some summary statistics on the data.\n",
    "\n",
    "Let's take the mean:"
   ]
  },
  {
   "cell_type": "code",
   "execution_count": null,
   "metadata": {
    "slideshow": {
     "slide_type": "fragment"
    }
   },
   "outputs": [],
   "source": [
    "# Take the mean of the data array\n",
    "print(data.mean())"
   ]
  },
  {
   "cell_type": "markdown",
   "metadata": {
    "slideshow": {
     "slide_type": "fragment"
    }
   },
   "source": [
    "But that gives us the overall (i.e., grand) mean of the array.\n",
    "\n",
    "If each column is a distinct data feature we want the mean of *each column*."
   ]
  },
  {
   "cell_type": "code",
   "execution_count": null,
   "metadata": {
    "slideshow": {
     "slide_type": "fragment"
    }
   },
   "outputs": [],
   "source": [
    "# Take the mean across the *first axis* (i.e., the mean across rows)\n",
    "print(data.mean(axis=0))"
   ]
  },
  {
   "cell_type": "markdown",
   "metadata": {
    "slideshow": {
     "slide_type": "subslide"
    }
   },
   "source": [
    "## Summary statistics (cont'd)\n",
    "\n",
    "What about other measures? What else can we do with the data?"
   ]
  },
  {
   "cell_type": "code",
   "execution_count": null,
   "metadata": {
    "slideshow": {
     "slide_type": "fragment"
    }
   },
   "outputs": [],
   "source": [
    "# Standard deviation\n",
    "print(data.std(axis=0))"
   ]
  },
  {
   "cell_type": "code",
   "execution_count": null,
   "metadata": {
    "slideshow": {
     "slide_type": "fragment"
    }
   },
   "outputs": [],
   "source": [
    "# Minimum:\n",
    "print(data.min(axis=0))"
   ]
  },
  {
   "cell_type": "code",
   "execution_count": null,
   "metadata": {
    "slideshow": {
     "slide_type": "fragment"
    }
   },
   "outputs": [],
   "source": [
    "# Maximum:\n",
    "print(data.max(axis=0))"
   ]
  },
  {
   "cell_type": "markdown",
   "metadata": {
    "slideshow": {
     "slide_type": "subslide"
    }
   },
   "source": [
    "## Subsetting data\n",
    "\n",
    "* What if we want to extract certain data observations based on some arbitrary criteria?\n",
    "    * To examine e.g., \"outliers\"?"
   ]
  },
  {
   "cell_type": "code",
   "execution_count": null,
   "metadata": {
    "slideshow": {
     "slide_type": "fragment"
    }
   },
   "outputs": [],
   "source": [
    "# Calculate the 2.5 SD +/- range of the data\n",
    "low = data[:, 0].mean() - (data[:, 0].std() * 2.5)\n",
    "high = data[:, 0].mean() + (data[:, 0].std() * 2.5)\n",
    "print(low, high)"
   ]
  },
  {
   "cell_type": "code",
   "execution_count": null,
   "metadata": {
    "scrolled": true,
    "slideshow": {
     "slide_type": "fragment"
    }
   },
   "outputs": [],
   "source": [
    "# Create a mask for the outliers\n",
    "mask = np.logical_or(data[:, 0] > high, data[:, 0] < low)\n",
    "print(mask)"
   ]
  },
  {
   "cell_type": "code",
   "execution_count": null,
   "metadata": {
    "slideshow": {
     "slide_type": "fragment"
    }
   },
   "outputs": [],
   "source": [
    "# Mask the data and check the values in the first column that are \"outliers\"\n",
    "print(data[mask, 0])"
   ]
  },
  {
   "cell_type": "markdown",
   "metadata": {
    "slideshow": {
     "slide_type": "subslide"
    }
   },
   "source": [
    "## Saving data\n",
    "\n",
    "* What if we want to save the data back to disk?"
   ]
  },
  {
   "cell_type": "code",
   "execution_count": null,
   "metadata": {
    "slideshow": {
     "slide_type": "fragment"
    }
   },
   "outputs": [],
   "source": [
    "# Modify data and save to disk\n",
    "modified_data = data * 2\n",
    "np.savetxt('modified_data.csv', modified_data)"
   ]
  },
  {
   "cell_type": "code",
   "execution_count": null,
   "metadata": {
    "slideshow": {
     "slide_type": "fragment"
    }
   },
   "outputs": [],
   "source": [
    "# Check that the file was created!\n",
    "! ls -lF modified_data.csv"
   ]
  },
  {
   "cell_type": "markdown",
   "metadata": {
    "slideshow": {
     "slide_type": "subslide"
    }
   },
   "source": [
    "## Mixed data\n",
    "\n",
    "* But what about when we have data of truly mixed types?\n",
    "    * Ints can be represented as floats, but what about strings?"
   ]
  },
  {
   "cell_type": "code",
   "execution_count": null,
   "metadata": {
    "slideshow": {
     "slide_type": "fragment"
    }
   },
   "outputs": [],
   "source": [
    "# Load https://bit.ly/nds-python-mixed\n",
    "data = np.loadtxt('https://bit.ly/nds-python-mixed')"
   ]
  },
  {
   "cell_type": "code",
   "execution_count": null,
   "metadata": {
    "scrolled": true,
    "slideshow": {
     "slide_type": "subslide"
    }
   },
   "outputs": [],
   "source": [
    "# We need to specify the datatype!\n",
    "data = np.loadtxt('https://bit.ly/nds-python-mixed', dtype=str)\n",
    "print(data)"
   ]
  },
  {
   "cell_type": "code",
   "execution_count": null,
   "metadata": {
    "slideshow": {
     "slide_type": "fragment"
    }
   },
   "outputs": [],
   "source": [
    "# Check the loaded array's shape:\n",
    "print(data.shape)"
   ]
  },
  {
   "cell_type": "code",
   "execution_count": null,
   "metadata": {
    "slideshow": {
     "slide_type": "fragment"
    }
   },
   "outputs": [],
   "source": [
    "# The columns are separated by semi-colons: we need to specify _that_, too!\n",
    "data = np.loadtxt('https://bit.ly/nds-python-mixed', dtype=str, delimiter=';')\n",
    "print(data.shape)"
   ]
  },
  {
   "cell_type": "markdown",
   "metadata": {
    "slideshow": {
     "slide_type": "subslide"
    }
   },
   "source": [
    "So now we've got the data loaded; let's try and calculate some stats on it!\n",
    "\n",
    "We'll start with the mean:"
   ]
  },
  {
   "cell_type": "code",
   "execution_count": null,
   "metadata": {
    "slideshow": {
     "slide_type": "fragment"
    }
   },
   "outputs": [],
   "source": [
    "# Grand mean of the data\n",
    "data.mean()"
   ]
  },
  {
   "cell_type": "code",
   "execution_count": null,
   "metadata": {
    "slideshow": {
     "slide_type": "fragment"
    }
   },
   "outputs": [],
   "source": [
    "# Check data type:\n",
    "print(data.dtype)"
   ]
  },
  {
   "cell_type": "markdown",
   "metadata": {
    "slideshow": {
     "slide_type": "subslide"
    }
   },
   "source": [
    "This isn't going to work...\n",
    "\n",
    "Let's try something else!"
   ]
  },
  {
   "cell_type": "markdown",
   "metadata": {
    "slideshow": {
     "slide_type": "slide"
    }
   },
   "source": [
    "# Pandas\n",
    "\n",
    "* High-performance, easy-to-use data structures and data analysis tools\n",
    "* Provides structures *very* similar to data frames in R (or tables in Matlab)\n",
    "    * Indeed, the primary data structure in `pandas` **is** a dataframe!\n",
    "* Has some built-in plotting functionality for exploring data\n",
    "* `pandas.DataFrame` structures seamlessly allowed for mixed datatypes (e.g., int, float, string, etc.)"
   ]
  },
  {
   "cell_type": "markdown",
   "metadata": {
    "slideshow": {
     "slide_type": "subslide"
    }
   },
   "source": [
    "## Loading data with `pandas`\n",
    "\n",
    "Let's try and re-load that \"mixed\" dataset with `pandas`, now!\n",
    "\n",
    "Again, `pandas` can easily load CSV files either locally or from the internet, so we can provide the same URL as before.\n",
    "\n",
    "We _do_ need to specify the delimiter, again!"
   ]
  },
  {
   "cell_type": "code",
   "execution_count": null,
   "metadata": {
    "slideshow": {
     "slide_type": "fragment"
    }
   },
   "outputs": [],
   "source": [
    "# Import pandas and load https://bit.ly/nds-python-mixed\n",
    "import pandas as pd\n",
    "data = pd.read_csv('https://bit.ly/nds-python-mixed', delimiter=';')\n",
    "print(type(data))"
   ]
  },
  {
   "cell_type": "code",
   "execution_count": null,
   "metadata": {
    "slideshow": {
     "slide_type": "fragment"
    }
   },
   "outputs": [],
   "source": [
    "# Sneak peek at the first five rows of the data frame\n",
    "data.head()"
   ]
  },
  {
   "cell_type": "markdown",
   "metadata": {
    "slideshow": {
     "slide_type": "subslide"
    }
   },
   "source": [
    "## Selecting columns\n",
    "\n",
    "We can easily select columns from a dataframe using their name.\n",
    "\n",
    "This is similar to selecting keys from a dictionary!"
   ]
  },
  {
   "cell_type": "code",
   "execution_count": null,
   "metadata": {
    "scrolled": true,
    "slideshow": {
     "slide_type": "fragment"
    }
   },
   "outputs": [],
   "source": [
    "# Selecting one column:\n",
    "hair = data['Hair']\n",
    "hair.head()"
   ]
  },
  {
   "cell_type": "code",
   "execution_count": null,
   "metadata": {
    "slideshow": {
     "slide_type": "fragment"
    }
   },
   "outputs": [],
   "source": [
    "# Selecting multiple columns:\n",
    "hair_and_fsiq = data[['Hair', 'FSIQ']]\n",
    "hair_and_fsiq.head()"
   ]
  },
  {
   "cell_type": "markdown",
   "metadata": {
    "slideshow": {
     "slide_type": "subslide"
    }
   },
   "source": [
    "## Why are those different?\n",
    "\n",
    "* A *single* column of a dataframe is referred to as a \"Series\" in pandas.\n",
    "* It has lots of the same functionality as a dataframe\n",
    "* But is technically distinct because it doesn't have \"columns\" (it's a vector)"
   ]
  },
  {
   "cell_type": "code",
   "execution_count": null,
   "metadata": {
    "slideshow": {
     "slide_type": "fragment"
    }
   },
   "outputs": [],
   "source": [
    "# Check type of `hair`\n",
    "print(type(hair))"
   ]
  },
  {
   "cell_type": "code",
   "execution_count": null,
   "metadata": {
    "slideshow": {
     "slide_type": "fragment"
    }
   },
   "outputs": [],
   "source": [
    "# Check type of `hair_and_fsiq`\n",
    "print(type(hair_and_fsiq))"
   ]
  },
  {
   "cell_type": "markdown",
   "metadata": {
    "slideshow": {
     "slide_type": "subslide"
    }
   },
   "source": [
    "## Data frame \"index\"\n",
    "\n",
    "The \"index\" of a dataframe corresponds to the \"name\" of each row. \n",
    "\n",
    "These are, by default, just integers (0-N), but they can be set to something else!\n",
    "\n",
    "The first column of the dataframe ('Unnamed: 0') was *probably* supposed to be the index, so let's fix that:"
   ]
  },
  {
   "cell_type": "code",
   "execution_count": null,
   "metadata": {
    "slideshow": {
     "slide_type": "fragment"
    }
   },
   "outputs": [],
   "source": [
    "# We can specify the index when we load the data\n",
    "data = pd.read_csv('https://bit.ly/nds-python-mixed', delimiter=';', index_col=0)\n",
    "data.head()"
   ]
  },
  {
   "cell_type": "code",
   "execution_count": null,
   "metadata": {
    "slideshow": {
     "slide_type": "fragment"
    }
   },
   "outputs": [],
   "source": [
    "# But we can also set the index directly, too:\n",
    "data.index = ['participant_{}'.format(n) for n in range(len(data))]\n",
    "data.head()"
   ]
  },
  {
   "cell_type": "markdown",
   "metadata": {
    "slideshow": {
     "slide_type": "subslide"
    }
   },
   "source": [
    "We can select certain rows using the index via `.loc`:"
   ]
  },
  {
   "cell_type": "code",
   "execution_count": null,
   "metadata": {
    "slideshow": {
     "slide_type": "fragment"
    }
   },
   "outputs": [],
   "source": [
    "# Select participant number 10\n",
    "data.loc['participant_10']"
   ]
  },
  {
   "cell_type": "markdown",
   "metadata": {
    "slideshow": {
     "slide_type": "subslide"
    }
   },
   "source": [
    "## Summary statistics in `pandas`\n",
    "\n",
    "Calculating summary stats in `pandas` is VERY easy:"
   ]
  },
  {
   "cell_type": "code",
   "execution_count": null,
   "metadata": {
    "slideshow": {
     "slide_type": "fragment"
    }
   },
   "outputs": [],
   "source": [
    "# Taking the mean of the data\n",
    "data.mean()"
   ]
  },
  {
   "cell_type": "markdown",
   "metadata": {},
   "source": [
    "Note that `axis=0` isn't needed! It knows not to take the overall mean."
   ]
  },
  {
   "cell_type": "code",
   "execution_count": null,
   "metadata": {
    "slideshow": {
     "slide_type": "fragment"
    }
   },
   "outputs": [],
   "source": [
    "# We can also use a special dataframe method to get a lot of stats quickly:\n",
    "data.describe()"
   ]
  },
  {
   "cell_type": "markdown",
   "metadata": {
    "slideshow": {
     "slide_type": "subslide"
    }
   },
   "source": [
    "## Missing data\n",
    "\n",
    "* Why weren't weight and height included in those metrics?\n",
    "* They should be numerical!"
   ]
  },
  {
   "cell_type": "code",
   "execution_count": null,
   "metadata": {
    "scrolled": true,
    "slideshow": {
     "slide_type": "fragment"
    }
   },
   "outputs": [],
   "source": [
    "# Check the data type of Weight and Height\n",
    "print(data['Weight'].dtype, data['Height'].dtype)"
   ]
  },
  {
   "cell_type": "markdown",
   "metadata": {
    "slideshow": {
     "slide_type": "fragment"
    }
   },
   "source": [
    "An 'object' datatype is the pandas version of \"I don't really know what this is.\"\n",
    "\n",
    "Let's figure out why..."
   ]
  },
  {
   "cell_type": "code",
   "execution_count": null,
   "metadata": {
    "scrolled": true,
    "slideshow": {
     "slide_type": "fragment"
    }
   },
   "outputs": [],
   "source": [
    "# Check the Weight column\n",
    "print(data['Weight'])"
   ]
  },
  {
   "cell_type": "markdown",
   "metadata": {
    "slideshow": {
     "slide_type": "subslide"
    }
   },
   "source": [
    "## Missing data (cont'd)\n",
    "\n",
    "Looks like there was some missing data in our original file and it was coded as '.'\n",
    "\n",
    "We can replace that with NaN values (not-a-number):"
   ]
  },
  {
   "cell_type": "code",
   "execution_count": null,
   "metadata": {
    "slideshow": {
     "slide_type": "fragment"
    }
   },
   "outputs": [],
   "source": [
    "# Replace '.' with NaN\n",
    "data = data.replace('.', np.nan)\n",
    "data.head()"
   ]
  },
  {
   "cell_type": "code",
   "execution_count": null,
   "metadata": {
    "slideshow": {
     "slide_type": "fragment"
    }
   },
   "outputs": [],
   "source": [
    "# Re-check the data type of Weight and Height\n",
    "print(data['Weight'].dtype, data['Height'].dtype)"
   ]
  },
  {
   "cell_type": "code",
   "execution_count": null,
   "metadata": {
    "slideshow": {
     "slide_type": "fragment"
    }
   },
   "outputs": [],
   "source": [
    "# Cast Weight and Height to float\n",
    "data['Weight'] = data['Weight'].astype(float)\n",
    "data['Height'] = data['Height'].astype(float)\n",
    "print(data['Weight'].dtype, data['Height'].dtype)"
   ]
  },
  {
   "cell_type": "markdown",
   "metadata": {
    "slideshow": {
     "slide_type": "subslide"
    }
   },
   "source": [
    "## Missing data (cont'd)\n",
    "\n",
    "Or, we can specify this value when we *load* our data:"
   ]
  },
  {
   "cell_type": "code",
   "execution_count": null,
   "metadata": {
    "slideshow": {
     "slide_type": "fragment"
    }
   },
   "outputs": [],
   "source": [
    "# Reload data specifying `na_values` and check Weight/Height dtype\n",
    "data = pd.read_csv('https://bit.ly/nds-python-mixed', delimiter=';', index_col=0, na_values='.')\n",
    "print(data['Weight'].dtype, data['Height'].dtype)"
   ]
  },
  {
   "cell_type": "code",
   "execution_count": null,
   "metadata": {
    "slideshow": {
     "slide_type": "fragment"
    }
   },
   "outputs": [],
   "source": [
    "# Now Weight + Height should be included in our \"describe\" method:\n",
    "data.describe()"
   ]
  },
  {
   "cell_type": "markdown",
   "metadata": {
    "slideshow": {
     "slide_type": "subslide"
    }
   },
   "source": [
    "## Basic plotting in pandas\n",
    "\n",
    "* matplotlib is the primary plotting library in Python\n",
    "* But, pandas comes with some plotting features built-in\n",
    "    * These features use matplotlib, but you can call them directly from pandas\n",
    "* They're really useful for quick data exploration!"
   ]
  },
  {
   "cell_type": "code",
   "execution_count": null,
   "metadata": {
    "slideshow": {
     "slide_type": "subslide"
    }
   },
   "outputs": [],
   "source": [
    "# Special command to get our plots to show up in our notebook:\n",
    "%matplotlib inline "
   ]
  },
  {
   "cell_type": "code",
   "execution_count": null,
   "metadata": {
    "slideshow": {
     "slide_type": "fragment"
    }
   },
   "outputs": [],
   "source": [
    "# The basic plot command:\n",
    "data.plot()"
   ]
  },
  {
   "cell_type": "code",
   "execution_count": null,
   "metadata": {
    "slideshow": {
     "slide_type": "subslide"
    }
   },
   "outputs": [],
   "source": [
    "# Plotting only some columns\n",
    "data[['Height', 'Weight']].plot()"
   ]
  },
  {
   "cell_type": "code",
   "execution_count": null,
   "metadata": {
    "slideshow": {
     "slide_type": "subslide"
    }
   },
   "outputs": [],
   "source": [
    "# Or, different kinds of plots!\n",
    "data.plot(kind='scatter', x='FSIQ', y='VIQ')"
   ]
  },
  {
   "cell_type": "code",
   "execution_count": null,
   "metadata": {
    "slideshow": {
     "slide_type": "subslide"
    }
   },
   "outputs": [],
   "source": [
    "# For more information...\n",
    "data.plot?"
   ]
  },
  {
   "cell_type": "markdown",
   "metadata": {
    "slideshow": {
     "slide_type": "slide"
    }
   },
   "source": [
    "# Summary\n",
    "* Python is the world's most popular dynamic programming language\n",
    "* It's increasing dominant in the world of data science\n",
    "* It's (relatively) easy to learn, performant, and has an enormous ecosystem\n",
    "* \"The second best language for everything\""
   ]
  },
  {
   "cell_type": "markdown",
   "metadata": {
    "slideshow": {
     "slide_type": "slide"
    }
   },
   "source": [
    "# Resources/further reading\n",
    "\n",
    "There are hundreds of excellent resources online for learning Python and/or data science. A few good ones:\n",
    "\n",
    "* CodeAcademy offers interactive programming courses for many languages and tools, including [Python](https://www.codecademy.com/learn/python) and [git](https://www.codecademy.com/learn/learn-git)\n",
    "* [A Whirlwind Tour of Python](http://www.oreilly.com/programming/free/files/a-whirlwind-tour-of-python.pdf) is an excellent intro to Python by [Jake VanderPlas](https://staff.washington.edu/jakevdp/); Jupyter notebooks are available [here](https://github.com/jakevdp/WhirlwindTourOfPython)\n",
    "* Another excellent and free online book is Allen Downey's [\"Think Python\"](http://greenteapress.com/wp/think-python-2e/)\n",
    "* Jake Vanderplas's [Python Data Science Handbook](https://github.com/jakevdp/PythonDataScienceHandbook) is also available online as a set of notebooks\n",
    "* Kaggle maintains a nice list of [data science and Python tutorials](https://www.kaggle.com/learn/overview)"
   ]
  }
 ],
 "metadata": {
  "celltoolbar": "Slideshow",
  "kernelspec": {
   "display_name": "Python 3",
   "language": "python",
   "name": "python3"
  },
  "language_info": {
   "codemirror_mode": {
    "name": "ipython",
    "version": 3
   },
   "file_extension": ".py",
   "mimetype": "text/x-python",
   "name": "python",
   "nbconvert_exporter": "python",
   "pygments_lexer": "ipython3",
   "version": "3.8.5"
  },
  "rise": {
   "scroll": true
  }
 },
 "nbformat": 4,
 "nbformat_minor": 2
}
